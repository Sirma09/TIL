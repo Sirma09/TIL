{
  "nbformat": 4,
  "nbformat_minor": 0,
  "metadata": {
    "colab": {
      "provenance": [],
      "authorship_tag": "ABX9TyMjcq2SSX+vAI0HTdfV8R4N",
      "include_colab_link": true
    },
    "kernelspec": {
      "name": "python3",
      "display_name": "Python 3"
    },
    "language_info": {
      "name": "python"
    }
  },
  "cells": [
    {
      "cell_type": "markdown",
      "metadata": {
        "id": "view-in-github",
        "colab_type": "text"
      },
      "source": [
        "<a href=\"https://colab.research.google.com/github/Sirma09/TIL/blob/main/radix_conversion.ipynb\" target=\"_parent\"><img src=\"https://colab.research.google.com/assets/colab-badge.svg\" alt=\"Open In Colab\"/></a>"
      ]
    },
    {
      "cell_type": "code",
      "execution_count": null,
      "metadata": {
        "colab": {
          "base_uri": "https://localhost:8080/"
        },
        "id": "HtOp5hWS1PMD",
        "outputId": "ce0d2be8-ca3e-49c7-8344-bb835f40bc5d"
      },
      "outputs": [
        {
          "metadata": {
            "tags": null
          },
          "name": "stdout",
          "output_type": "stream",
          "text": [
            "\n",
            "対応する進数: 2進数、8進数、10進数、16進数\n",
            "10進数 '255' は 16進数 'FF' です。\n"
          ]
        }
      ],
      "source": [
        "base_digits = {\n",
        "    2: '01',\n",
        "    8: '01234567',\n",
        "    10: '0123456789',\n",
        "    16: '0123456789ABCDEF'\n",
        "}\n",
        "\n",
        "def to_decimal(num_str, base):  # 任意の基数から10進数へ変換\n",
        "    num_str = num_str.upper()\n",
        "    value = 0\n",
        "    for c in num_str:\n",
        "        value = value * base + base_digits[base].index(c)\n",
        "    return value\n",
        "\n",
        "def from_decimal(value, base):  # 10進数から任意の基数へ変換\n",
        "    if value == 0:\n",
        "        return \"0\"\n",
        "    result = \"\"\n",
        "    while value > 0:\n",
        "        result = base_digits[base][value % base] + result\n",
        "        value //= base\n",
        "    return result\n",
        "\n",
        "def convert_base(num_str, from_base, to_base):  # 任意の基数間の変換\n",
        "    decimal_value = to_decimal(num_str, from_base)\n",
        "    return from_decimal(decimal_value, to_base)\n",
        "\n",
        "if __name__ == \"__main__\":\n",
        "    while True:\n",
        "        print(\"\\n対応する進数: 2進数、8進数、10進数、16進数\")\n",
        "        from_base = int(input(\"変換元の進数を入力してください（2, 8, 10, 16）：\"))\n",
        "        to_base = int(input(\"変換先の進数を入力してください（2, 8, 10, 16）：\"))\n",
        "\n",
        "        if from_base not in base_digits or to_base not in base_digits:\n",
        "            print(\"無効な進数です。もう一度入力してください。\")\n",
        "            continue\n",
        "\n",
        "        num_str = input(f\"{from_base}進数の数値を入力してください：\").upper()\n",
        "\n",
        "        if not all(c in base_digits[from_base] for c in num_str):\n",
        "            print(f\"{from_base}進数ではありません。\")\n",
        "            continue\n",
        "\n",
        "        result = convert_base(num_str, from_base, to_base)\n",
        "        print(f\"{from_base}進数 '{num_str}' は {to_base}進数 '{result}' です。\")\n",
        "\n",
        "        if input(\"続けますか？ (y/n): \").lower() != 'y':\n",
        "            break\n"
      ]
    },
    {
      "cell_type": "code",
      "source": [
        "# 改良版\n",
        "\n",
        "base_digits = {\n",
        "    2: '01',\n",
        "    8: '01234567',\n",
        "    10: '0123456789',\n",
        "    16: '0123456789ABCDEF'\n",
        "}\n",
        "\n",
        "def to_decimal(num_str, base):\n",
        "    \"\"\" 任意の基数から10進数へ変換 \"\"\"\n",
        "    return int(num_str, base)\n",
        "\n",
        "def from_decimal(value, base):\n",
        "    \"\"\" 10進数から任意の基数へ変換 \"\"\"\n",
        "    return format(value, {2: 'b', 8: 'o', 10: 'd', 16: 'X'}[base])\n",
        "\n",
        "if __name__ == \"__main__\":\n",
        "    print(\"\\n対応する進数: 2進数、8進数、10進数、16進数\")\n",
        "    from_base = int(input(\"変換元の進数を入力してください（2, 8, 10, 16）：\"))\n",
        "\n",
        "    if from_base not in base_digits:\n",
        "        print(\"無効な進数です。\")\n",
        "        exit()\n",
        "\n",
        "    num_str = input(f\"{from_base}進数の数値を入力してください：\").upper()\n",
        "\n",
        "    if not all(c in base_digits[from_base] for c in num_str):\n",
        "        print(f\"{from_base}進数ではありません。\")\n",
        "        exit()\n",
        "\n",
        "    decimal_value = to_decimal(num_str, from_base)\n",
        "\n",
        "    print(\"\\n【変換結果】\")\n",
        "    for base in [2, 8, 10, 16]:\n",
        "        if base != from_base:\n",
        "            print(f\"{base}進数: {from_decimal(decimal_value, base)}\")"
      ],
      "metadata": {
        "colab": {
          "base_uri": "https://localhost:8080/"
        },
        "id": "9iajKr-76Gy4",
        "outputId": "69cb29c3-8916-4511-dd55-0454d9312f5a"
      },
      "execution_count": null,
      "outputs": [
        {
          "metadata": {
            "tags": null
          },
          "name": "stdout",
          "output_type": "stream",
          "text": [
            "\n",
            "対応する進数: 2進数、8進数、10進数、16進数\n"
          ]
        }
      ]
    }
  ]
}
